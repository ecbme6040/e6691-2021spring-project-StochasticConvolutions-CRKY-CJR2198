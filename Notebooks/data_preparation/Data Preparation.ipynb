{
 "cells": [
  {
   "cell_type": "markdown",
   "metadata": {},
   "source": [
    "# Data Preparation Notebook\n",
    "\n",
    "This notebook reads in all .csv data for all ISIC competition from 2016 to 2020 and renames underlying images and consistently renames the target.\n",
    "\n",
    "All file names and file target (classification) are aggregated for all years and a full data dataframe is saved in .csv format to be used in training."
   ]
  },
  {
   "cell_type": "code",
   "execution_count": 80,
   "metadata": {},
   "outputs": [],
   "source": [
    "import cv2\n",
    "import pandas as pd\n",
    "import seaborn as sns\n",
    "import glob\n",
    "from matplotlib import pyplot\n",
    "import os\n",
    "import shutil\n",
    "import numpy as np"
   ]
  },
  {
   "cell_type": "code",
   "execution_count": 8,
   "metadata": {},
   "outputs": [],
   "source": [
    "def label_target (row):\n",
    "    if row[2] == 'benign':\n",
    "        return 0\n",
    "    else:\n",
    "        return 1"
   ]
  },
  {
   "cell_type": "code",
   "execution_count": 10,
   "metadata": {},
   "outputs": [],
   "source": [
    "all_data_df = pd.DataFrame()"
   ]
  },
  {
   "cell_type": "code",
   "execution_count": 25,
   "metadata": {},
   "outputs": [],
   "source": [
    "## 2016 Dataframes ##\n",
    "df_2016_1 = pd.read_csv('2016_1_renamed.csv')\n",
    "df_2016_1['target'] = df_2016_1.apply(lambda row: label_target(row), axis=1)\n",
    "df_2016_1['target'] = df_2016_1['target'].astype('float32')\n",
    "df_2016_1_dist = pd.DataFrame()\n",
    "df_2016_1_dist[['filename','target']] = df_2016_1[['0','target']]"
   ]
  },
  {
   "cell_type": "code",
   "execution_count": 26,
   "metadata": {},
   "outputs": [],
   "source": [
    "df_2016_2 = pd.read_csv('2016_2_renamed.csv')\n",
    "df_2016_2['target'] = df_2016_2['1']\n",
    "df_2016_2_dist = pd.DataFrame()\n",
    "df_2016_2_dist[['filename','target']] = df_2016_2[['0','target']]"
   ]
  },
  {
   "cell_type": "code",
   "execution_count": 33,
   "metadata": {},
   "outputs": [],
   "source": [
    "def label_target_2017 (row):\n",
    "    if row['melanoma'] > 0.5:\n",
    "        return 1.0\n",
    "    else:\n",
    "        return 0.0"
   ]
  },
  {
   "cell_type": "code",
   "execution_count": 35,
   "metadata": {},
   "outputs": [],
   "source": [
    "## 2017 Dataframes ##\n",
    "df_2017_1 = pd.read_csv('2017_1_renamed.csv',header=1)\n",
    "df_2017_1['target'] = df_2017_1.apply(lambda row: label_target_2017(row), axis=1)\n",
    "df_2017_1_dist = pd.DataFrame()\n",
    "df_2017_1_dist[['filename','target']] = df_2017_1[['image_id','target']]"
   ]
  },
  {
   "cell_type": "code",
   "execution_count": 36,
   "metadata": {},
   "outputs": [],
   "source": [
    "df_2017_2 = pd.read_csv('2017_2_renamed.csv',header=1)\n",
    "df_2017_2['target'] = df_2017_2.apply(lambda row: label_target_2017(row), axis=1)\n",
    "df_2017_2_dist = pd.DataFrame()\n",
    "df_2017_2_dist[['filename','target']] = df_2017_2[['image_id','target']]"
   ]
  },
  {
   "cell_type": "code",
   "execution_count": 37,
   "metadata": {},
   "outputs": [],
   "source": [
    "df_2017_3 = pd.read_csv('2017_3_renamed.csv',header=1)\n",
    "df_2017_3['target'] = df_2017_3.apply(lambda row: label_target_2017(row), axis=1)\n",
    "df_2017_3_dist = pd.DataFrame()\n",
    "df_2017_3_dist[['filename','target']] = df_2017_3[['image_id','target']]"
   ]
  },
  {
   "cell_type": "code",
   "execution_count": 42,
   "metadata": {},
   "outputs": [],
   "source": [
    "def label_target_2018 (row):\n",
    "    if row['MEL'] > 0.5:\n",
    "        return 1.0\n",
    "    if row['BCC'] > 0.5:\n",
    "        return 1.0\n",
    "    if row['AKIEC'] > 0.5:\n",
    "        return 1.0\n",
    "    \n",
    "    return 0.0"
   ]
  },
  {
   "cell_type": "code",
   "execution_count": 46,
   "metadata": {},
   "outputs": [],
   "source": [
    "## 2018 Dataframes ##\n",
    "df_2018_1 = pd.read_csv('2018_1_renamed.csv',header=1)\n",
    "df_2018_1['target'] = df_2018_1.apply(lambda row: label_target_2018(row), axis=1)\n",
    "df_2018_1_dist = pd.DataFrame()\n",
    "df_2018_1_dist[['filename','target']] = df_2018_1[['image','target']]\n"
   ]
  },
  {
   "cell_type": "code",
   "execution_count": 47,
   "metadata": {},
   "outputs": [
    {
     "data": {
      "text/html": [
       "<div>\n",
       "<style scoped>\n",
       "    .dataframe tbody tr th:only-of-type {\n",
       "        vertical-align: middle;\n",
       "    }\n",
       "\n",
       "    .dataframe tbody tr th {\n",
       "        vertical-align: top;\n",
       "    }\n",
       "\n",
       "    .dataframe thead th {\n",
       "        text-align: right;\n",
       "    }\n",
       "</style>\n",
       "<table border=\"1\" class=\"dataframe\">\n",
       "  <thead>\n",
       "    <tr style=\"text-align: right;\">\n",
       "      <th></th>\n",
       "      <th>filename</th>\n",
       "      <th>target</th>\n",
       "    </tr>\n",
       "  </thead>\n",
       "  <tbody>\n",
       "    <tr>\n",
       "      <th>0</th>\n",
       "      <td>ISIC_0034321_2018_2_28</td>\n",
       "      <td>0.0</td>\n",
       "    </tr>\n",
       "    <tr>\n",
       "      <th>1</th>\n",
       "      <td>ISIC_0034322_2018_2_100</td>\n",
       "      <td>0.0</td>\n",
       "    </tr>\n",
       "    <tr>\n",
       "      <th>2</th>\n",
       "      <td>ISIC_0034323_2018_2_12</td>\n",
       "      <td>1.0</td>\n",
       "    </tr>\n",
       "    <tr>\n",
       "      <th>3</th>\n",
       "      <td>ISIC_0034324_2018_2_59</td>\n",
       "      <td>0.0</td>\n",
       "    </tr>\n",
       "    <tr>\n",
       "      <th>4</th>\n",
       "      <td>ISIC_0034325_2018_2_88</td>\n",
       "      <td>0.0</td>\n",
       "    </tr>\n",
       "    <tr>\n",
       "      <th>...</th>\n",
       "      <td>...</td>\n",
       "      <td>...</td>\n",
       "    </tr>\n",
       "    <tr>\n",
       "      <th>188</th>\n",
       "      <td>ISIC_0034519_2018_2_116</td>\n",
       "      <td>0.0</td>\n",
       "    </tr>\n",
       "    <tr>\n",
       "      <th>189</th>\n",
       "      <td>ISIC_0034520_2018_2_104</td>\n",
       "      <td>0.0</td>\n",
       "    </tr>\n",
       "    <tr>\n",
       "      <th>190</th>\n",
       "      <td>ISIC_0034521_2018_2_178</td>\n",
       "      <td>0.0</td>\n",
       "    </tr>\n",
       "    <tr>\n",
       "      <th>191</th>\n",
       "      <td>ISIC_0034522_2018_2_118</td>\n",
       "      <td>0.0</td>\n",
       "    </tr>\n",
       "    <tr>\n",
       "      <th>192</th>\n",
       "      <td>ISIC_0034523_2018_2_136</td>\n",
       "      <td>1.0</td>\n",
       "    </tr>\n",
       "  </tbody>\n",
       "</table>\n",
       "<p>193 rows × 2 columns</p>\n",
       "</div>"
      ],
      "text/plain": [
       "                    filename  target\n",
       "0     ISIC_0034321_2018_2_28     0.0\n",
       "1    ISIC_0034322_2018_2_100     0.0\n",
       "2     ISIC_0034323_2018_2_12     1.0\n",
       "3     ISIC_0034324_2018_2_59     0.0\n",
       "4     ISIC_0034325_2018_2_88     0.0\n",
       "..                       ...     ...\n",
       "188  ISIC_0034519_2018_2_116     0.0\n",
       "189  ISIC_0034520_2018_2_104     0.0\n",
       "190  ISIC_0034521_2018_2_178     0.0\n",
       "191  ISIC_0034522_2018_2_118     0.0\n",
       "192  ISIC_0034523_2018_2_136     1.0\n",
       "\n",
       "[193 rows x 2 columns]"
      ]
     },
     "execution_count": 47,
     "metadata": {},
     "output_type": "execute_result"
    }
   ],
   "source": [
    "df_2018_2 = pd.read_csv('2018_2_renamed.csv',header=1)\n",
    "df_2018_2['target'] = df_2018_2.apply(lambda row: label_target_2018(row), axis=1)\n",
    "df_2018_2_dist = pd.DataFrame()\n",
    "df_2018_2_dist[['filename','target']] = df_2018_2[['image','target']]\n"
   ]
  },
  {
   "cell_type": "code",
   "execution_count": 52,
   "metadata": {},
   "outputs": [],
   "source": [
    "def label_target_2019 (row):\n",
    "    if row['MEL'] > 0.5:\n",
    "        return 1.0\n",
    "    if row['BCC'] > 0.5:\n",
    "        return 1.0\n",
    "    if row['AK'] > 0.5:\n",
    "        return 1.0\n",
    "    if row['SCC'] > 0.5:\n",
    "        return 1.0\n",
    "    \n",
    "    return 0.0"
   ]
  },
  {
   "cell_type": "code",
   "execution_count": 56,
   "metadata": {},
   "outputs": [],
   "source": [
    "df_2019_1 = pd.read_csv('2019_1_renamed.csv',header=1)\n",
    "df_2019_1['target'] = df_2019_1.apply(lambda row: label_target_2019(row), axis=1)\n",
    "df_2019_1_dist = pd.DataFrame()\n",
    "df_2019_1_dist[['filename','target']] = df_2019_1[['image','target']]"
   ]
  },
  {
   "cell_type": "code",
   "execution_count": 57,
   "metadata": {},
   "outputs": [],
   "source": [
    "def label_target_2020 (row):\n",
    "    if row['benign_malignant'] == 'benign':\n",
    "        return 0.0\n",
    "    return 1.0"
   ]
  },
  {
   "cell_type": "code",
   "execution_count": 59,
   "metadata": {},
   "outputs": [],
   "source": [
    "df_2020_1 = pd.read_csv('2020_1_renamed.csv',header=1)\n",
    "df_2020_1\n",
    "df_2020_1['target'] = df_2020_1.apply(lambda row: label_target_2020(row), axis=1)\n",
    "df_2020_1_dist = pd.DataFrame()\n",
    "df_2020_1_dist[['filename','target']] = df_2020_1[['image_name','target']]\n"
   ]
  },
  {
   "cell_type": "code",
   "execution_count": 133,
   "metadata": {},
   "outputs": [
    {
     "data": {
      "text/html": [
       "<div>\n",
       "<style scoped>\n",
       "    .dataframe tbody tr th:only-of-type {\n",
       "        vertical-align: middle;\n",
       "    }\n",
       "\n",
       "    .dataframe tbody tr th {\n",
       "        vertical-align: top;\n",
       "    }\n",
       "\n",
       "    .dataframe thead th {\n",
       "        text-align: right;\n",
       "    }\n",
       "</style>\n",
       "<table border=\"1\" class=\"dataframe\">\n",
       "  <thead>\n",
       "    <tr style=\"text-align: right;\">\n",
       "      <th></th>\n",
       "      <th>filename</th>\n",
       "      <th>target</th>\n",
       "    </tr>\n",
       "  </thead>\n",
       "  <tbody>\n",
       "    <tr>\n",
       "      <th>0</th>\n",
       "      <td>ISIC_2637011_2020_1_31256</td>\n",
       "      <td>0.0</td>\n",
       "    </tr>\n",
       "    <tr>\n",
       "      <th>1</th>\n",
       "      <td>ISIC_0015719_2020_1_2963</td>\n",
       "      <td>0.0</td>\n",
       "    </tr>\n",
       "    <tr>\n",
       "      <th>2</th>\n",
       "      <td>ISIC_0052212_2020_1_14821</td>\n",
       "      <td>0.0</td>\n",
       "    </tr>\n",
       "    <tr>\n",
       "      <th>3</th>\n",
       "      <td>ISIC_0068279_2020_1_23495</td>\n",
       "      <td>0.0</td>\n",
       "    </tr>\n",
       "    <tr>\n",
       "      <th>4</th>\n",
       "      <td>ISIC_0074268_2020_1_30557</td>\n",
       "      <td>0.0</td>\n",
       "    </tr>\n",
       "    <tr>\n",
       "      <th>...</th>\n",
       "      <td>...</td>\n",
       "      <td>...</td>\n",
       "    </tr>\n",
       "    <tr>\n",
       "      <th>145</th>\n",
       "      <td>ISIC_0015443_2017_3_145</td>\n",
       "      <td>0.0</td>\n",
       "    </tr>\n",
       "    <tr>\n",
       "      <th>146</th>\n",
       "      <td>ISIC_0015445_2017_3_146</td>\n",
       "      <td>0.0</td>\n",
       "    </tr>\n",
       "    <tr>\n",
       "      <th>147</th>\n",
       "      <td>ISIC_0015483_2017_3_147</td>\n",
       "      <td>0.0</td>\n",
       "    </tr>\n",
       "    <tr>\n",
       "      <th>148</th>\n",
       "      <td>ISIC_0015496_2017_3_148</td>\n",
       "      <td>0.0</td>\n",
       "    </tr>\n",
       "    <tr>\n",
       "      <th>149</th>\n",
       "      <td>ISIC_0015627_2017_3_149</td>\n",
       "      <td>0.0</td>\n",
       "    </tr>\n",
       "  </tbody>\n",
       "</table>\n",
       "<p>71415 rows × 2 columns</p>\n",
       "</div>"
      ],
      "text/plain": [
       "                      filename  target\n",
       "0    ISIC_2637011_2020_1_31256     0.0\n",
       "1     ISIC_0015719_2020_1_2963     0.0\n",
       "2    ISIC_0052212_2020_1_14821     0.0\n",
       "3    ISIC_0068279_2020_1_23495     0.0\n",
       "4    ISIC_0074268_2020_1_30557     0.0\n",
       "..                         ...     ...\n",
       "145    ISIC_0015443_2017_3_145     0.0\n",
       "146    ISIC_0015445_2017_3_146     0.0\n",
       "147    ISIC_0015483_2017_3_147     0.0\n",
       "148    ISIC_0015496_2017_3_148     0.0\n",
       "149    ISIC_0015627_2017_3_149     0.0\n",
       "\n",
       "[71415 rows x 2 columns]"
      ]
     },
     "execution_count": 133,
     "metadata": {},
     "output_type": "execute_result"
    }
   ],
   "source": [
    "all_data_df = pd.concat([df_2020_1_dist,df_2019_1_dist,df_2018_1_dist,df_2018_2_dist,df_2017_1_dist,\n",
    "                         df_2017_2_dist, df_2017_3_dist])\n",
    "all_data_df"
   ]
  },
  {
   "cell_type": "code",
   "execution_count": 134,
   "metadata": {},
   "outputs": [],
   "source": [
    "## confirm all images exist ##\n",
    "def check_filename (row):\n",
    "    name = row['filename']\n",
    "    name = 'FullData/' + name + '.jpg'\n",
    "    if name in files:\n",
    "        return 1\n",
    "    else:\n",
    "        return 0\n",
    "    \n",
    "global files\n",
    "files = glob.glob('FullData/*')"
   ]
  },
  {
   "cell_type": "code",
   "execution_count": 135,
   "metadata": {},
   "outputs": [],
   "source": [
    "all_data_df.reset_index(inplace=True)\n",
    "result = all_data_df.apply(lambda row: check_filename(row), axis=1)"
   ]
  },
  {
   "cell_type": "code",
   "execution_count": 136,
   "metadata": {},
   "outputs": [
    {
     "data": {
      "text/plain": [
       "(array([33142, 33143, 33144, ..., 36026, 36027, 36028]),)"
      ]
     },
     "execution_count": 136,
     "metadata": {},
     "output_type": "execute_result"
    }
   ],
   "source": [
    "result = result.to_numpy()\n",
    "np.where(result == 0)"
   ]
  },
  {
   "cell_type": "code",
   "execution_count": 137,
   "metadata": {},
   "outputs": [
    {
     "data": {
      "text/plain": [
       "index       2074\n",
       "filename    2074\n",
       "target      2074\n",
       "dtype: int64"
      ]
     },
     "execution_count": 137,
     "metadata": {},
     "output_type": "execute_result"
    }
   ],
   "source": [
    "missing = all_data_df.iloc[np.where(result == 0)]\n",
    "missing.count()"
   ]
  },
  {
   "cell_type": "code",
   "execution_count": 138,
   "metadata": {},
   "outputs": [
    {
     "data": {
      "text/plain": [
       "index       71415\n",
       "filename    71415\n",
       "target      71415\n",
       "dtype: int64"
      ]
     },
     "execution_count": 138,
     "metadata": {},
     "output_type": "execute_result"
    }
   ],
   "source": [
    "all_data_df.count()"
   ]
  },
  {
   "cell_type": "markdown",
   "metadata": {},
   "source": [
    "### Check distribution of malignant vs benign"
   ]
  },
  {
   "cell_type": "code",
   "execution_count": 139,
   "metadata": {},
   "outputs": [
    {
     "data": {
      "text/plain": [
       "array([[<AxesSubplot:title={'center':'index'}>,\n",
       "        <AxesSubplot:title={'center':'target'}>]], dtype=object)"
      ]
     },
     "execution_count": 139,
     "metadata": {},
     "output_type": "execute_result"
    },
    {
     "data": {
      "image/png": "[encoded data removed]",
      "text/plain": [
       "<Figure size 432x288 with 2 Axes>"
      ]
     },
     "metadata": {
      "needs_background": "light"
     },
     "output_type": "display_data"
    }
   ],
   "source": [
    "all_data_df.hist()"
   ]
  },
  {
   "cell_type": "code",
   "execution_count": 140,
   "metadata": {},
   "outputs": [
    {
     "data": {
      "text/plain": [
       "index       2074\n",
       "filename    2074\n",
       "target      2074\n",
       "dtype: int64"
      ]
     },
     "execution_count": 140,
     "metadata": {},
     "output_type": "execute_result"
    }
   ],
   "source": [
    "all_data_df.iloc[np.where(result == 0)].count()"
   ]
  },
  {
   "cell_type": "code",
   "execution_count": 141,
   "metadata": {},
   "outputs": [
    {
     "data": {
      "text/plain": [
       "index       69341\n",
       "filename    69341\n",
       "target      69341\n",
       "dtype: int64"
      ]
     },
     "execution_count": 141,
     "metadata": {},
     "output_type": "execute_result"
    }
   ],
   "source": [
    "indicies = all_data_df.iloc[np.where(result == 0)].index.tolist()\n",
    "all_data_df.drop(index=indicies,inplace=True)\n",
    "all_data_df.count()"
   ]
  },
  {
   "cell_type": "markdown",
   "metadata": {},
   "source": [
    "### Store the resolution of all images in the dataframe"
   ]
  },
  {
   "cell_type": "code",
   "execution_count": 153,
   "metadata": {},
   "outputs": [],
   "source": [
    "def get_width (row):\n",
    "    name = row['filename']\n",
    "    name = 'FullData/' + name + '.jpg'\n",
    "    img = cv2.imread(name,0)\n",
    "    height, width = img.shape[:2]\n",
    "    return width\n",
    "\n",
    "def get_height (row):\n",
    "    name = row['filename']\n",
    "    name = 'FullData/' + name + '.jpg'\n",
    "    \n",
    "    img = cv2.imread(name,0)\n",
    "    height, width = img.shape[:2]\n",
    "    return height\n",
    "\n",
    "\n",
    "global files\n",
    "files = glob.glob('FullData/*')"
   ]
  },
  {
   "cell_type": "code",
   "execution_count": 154,
   "metadata": {},
   "outputs": [],
   "source": [
    "all_data_df['width'] = all_data_df.apply(lambda row: get_width(row), axis=1)\n",
    "all_data_df['height'] = all_data_df.apply(lambda row: get_height(row), axis=1)"
   ]
  },
  {
   "cell_type": "code",
   "execution_count": 158,
   "metadata": {},
   "outputs": [
    {
     "data": {
      "text/html": [
       "<div>\n",
       "<style scoped>\n",
       "    .dataframe tbody tr th:only-of-type {\n",
       "        vertical-align: middle;\n",
       "    }\n",
       "\n",
       "    .dataframe tbody tr th {\n",
       "        vertical-align: top;\n",
       "    }\n",
       "\n",
       "    .dataframe thead th {\n",
       "        text-align: right;\n",
       "    }\n",
       "</style>\n",
       "<table border=\"1\" class=\"dataframe\">\n",
       "  <thead>\n",
       "    <tr style=\"text-align: right;\">\n",
       "      <th></th>\n",
       "      <th>index</th>\n",
       "      <th>target</th>\n",
       "      <th>width</th>\n",
       "      <th>height</th>\n",
       "    </tr>\n",
       "  </thead>\n",
       "  <tbody>\n",
       "    <tr>\n",
       "      <th>count</th>\n",
       "      <td>69341.000000</td>\n",
       "      <td>69341.000000</td>\n",
       "      <td>69341.000000</td>\n",
       "      <td>69341.000000</td>\n",
       "    </tr>\n",
       "    <tr>\n",
       "      <th>mean</th>\n",
       "      <td>13242.112430</td>\n",
       "      <td>0.174053</td>\n",
       "      <td>989.350918</td>\n",
       "      <td>901.019671</td>\n",
       "    </tr>\n",
       "    <tr>\n",
       "      <th>std</th>\n",
       "      <td>9070.255164</td>\n",
       "      <td>0.379158</td>\n",
       "      <td>627.773981</td>\n",
       "      <td>444.978754</td>\n",
       "    </tr>\n",
       "    <tr>\n",
       "      <th>min</th>\n",
       "      <td>0.000000</td>\n",
       "      <td>0.000000</td>\n",
       "      <td>576.000000</td>\n",
       "      <td>450.000000</td>\n",
       "    </tr>\n",
       "    <tr>\n",
       "      <th>25%</th>\n",
       "      <td>5488.000000</td>\n",
       "      <td>0.000000</td>\n",
       "      <td>600.000000</td>\n",
       "      <td>450.000000</td>\n",
       "    </tr>\n",
       "    <tr>\n",
       "      <th>50%</th>\n",
       "      <td>11893.000000</td>\n",
       "      <td>0.000000</td>\n",
       "      <td>1024.000000</td>\n",
       "      <td>1024.000000</td>\n",
       "    </tr>\n",
       "    <tr>\n",
       "      <th>75%</th>\n",
       "      <td>20560.000000</td>\n",
       "      <td>0.000000</td>\n",
       "      <td>1024.000000</td>\n",
       "      <td>1024.000000</td>\n",
       "    </tr>\n",
       "    <tr>\n",
       "      <th>max</th>\n",
       "      <td>33125.000000</td>\n",
       "      <td>1.000000</td>\n",
       "      <td>6748.000000</td>\n",
       "      <td>4499.000000</td>\n",
       "    </tr>\n",
       "  </tbody>\n",
       "</table>\n",
       "</div>"
      ],
      "text/plain": [
       "              index        target         width        height\n",
       "count  69341.000000  69341.000000  69341.000000  69341.000000\n",
       "mean   13242.112430      0.174053    989.350918    901.019671\n",
       "std     9070.255164      0.379158    627.773981    444.978754\n",
       "min        0.000000      0.000000    576.000000    450.000000\n",
       "25%     5488.000000      0.000000    600.000000    450.000000\n",
       "50%    11893.000000      0.000000   1024.000000   1024.000000\n",
       "75%    20560.000000      0.000000   1024.000000   1024.000000\n",
       "max    33125.000000      1.000000   6748.000000   4499.000000"
      ]
     },
     "execution_count": 158,
     "metadata": {},
     "output_type": "execute_result"
    }
   ],
   "source": [
    "all_data_df.describe()"
   ]
  },
  {
   "cell_type": "code",
   "execution_count": 156,
   "metadata": {},
   "outputs": [],
   "source": [
    "all_data_df.to_csv('FinalTrain.csv',index=False)"
   ]
  },
  {
   "cell_type": "code",
   "execution_count": 169,
   "metadata": {},
   "outputs": [
    {
     "data": {
      "text/html": [
       "<div>\n",
       "<style scoped>\n",
       "    .dataframe tbody tr th:only-of-type {\n",
       "        vertical-align: middle;\n",
       "    }\n",
       "\n",
       "    .dataframe tbody tr th {\n",
       "        vertical-align: top;\n",
       "    }\n",
       "\n",
       "    .dataframe thead th {\n",
       "        text-align: right;\n",
       "    }\n",
       "</style>\n",
       "<table border=\"1\" class=\"dataframe\">\n",
       "  <thead>\n",
       "    <tr style=\"text-align: right;\">\n",
       "      <th></th>\n",
       "      <th>index</th>\n",
       "      <th>target</th>\n",
       "      <th>width</th>\n",
       "      <th>height</th>\n",
       "    </tr>\n",
       "  </thead>\n",
       "  <tbody>\n",
       "    <tr>\n",
       "      <th>count</th>\n",
       "      <td>47557.000000</td>\n",
       "      <td>47557.000000</td>\n",
       "      <td>47557.000000</td>\n",
       "      <td>47557.000000</td>\n",
       "    </tr>\n",
       "    <tr>\n",
       "      <th>mean</th>\n",
       "      <td>16564.796644</td>\n",
       "      <td>0.163803</td>\n",
       "      <td>1155.280653</td>\n",
       "      <td>1097.984944</td>\n",
       "    </tr>\n",
       "    <tr>\n",
       "      <th>std</th>\n",
       "      <td>8901.827742</td>\n",
       "      <td>0.370101</td>\n",
       "      <td>694.508424</td>\n",
       "      <td>403.055413</td>\n",
       "    </tr>\n",
       "    <tr>\n",
       "      <th>min</th>\n",
       "      <td>0.000000</td>\n",
       "      <td>0.000000</td>\n",
       "      <td>1024.000000</td>\n",
       "      <td>1016.000000</td>\n",
       "    </tr>\n",
       "    <tr>\n",
       "      <th>25%</th>\n",
       "      <td>9871.000000</td>\n",
       "      <td>0.000000</td>\n",
       "      <td>1024.000000</td>\n",
       "      <td>1024.000000</td>\n",
       "    </tr>\n",
       "    <tr>\n",
       "      <th>50%</th>\n",
       "      <td>17339.000000</td>\n",
       "      <td>0.000000</td>\n",
       "      <td>1024.000000</td>\n",
       "      <td>1024.000000</td>\n",
       "    </tr>\n",
       "    <tr>\n",
       "      <th>75%</th>\n",
       "      <td>23283.000000</td>\n",
       "      <td>0.000000</td>\n",
       "      <td>1024.000000</td>\n",
       "      <td>1024.000000</td>\n",
       "    </tr>\n",
       "    <tr>\n",
       "      <th>max</th>\n",
       "      <td>33125.000000</td>\n",
       "      <td>1.000000</td>\n",
       "      <td>6748.000000</td>\n",
       "      <td>4499.000000</td>\n",
       "    </tr>\n",
       "  </tbody>\n",
       "</table>\n",
       "</div>"
      ],
      "text/plain": [
       "              index        target         width        height\n",
       "count  47557.000000  47557.000000  47557.000000  47557.000000\n",
       "mean   16564.796644      0.163803   1155.280653   1097.984944\n",
       "std     8901.827742      0.370101    694.508424    403.055413\n",
       "min        0.000000      0.000000   1024.000000   1016.000000\n",
       "25%     9871.000000      0.000000   1024.000000   1024.000000\n",
       "50%    17339.000000      0.000000   1024.000000   1024.000000\n",
       "75%    23283.000000      0.000000   1024.000000   1024.000000\n",
       "max    33125.000000      1.000000   6748.000000   4499.000000"
      ]
     },
     "execution_count": 169,
     "metadata": {},
     "output_type": "execute_result"
    }
   ],
   "source": [
    "high_resolution = all_data_df[all_data_df['height'] > 1000]\n",
    "small = small[small['width'] > 1000]\n",
    "small.describe()"
   ]
  },
  {
   "cell_type": "code",
   "execution_count": 163,
   "metadata": {},
   "outputs": [
    {
     "data": {
      "text/plain": [
       "array([[<AxesSubplot:title={'center':'index'}>,\n",
       "        <AxesSubplot:title={'center':'target'}>],\n",
       "       [<AxesSubplot:title={'center':'width'}>,\n",
       "        <AxesSubplot:title={'center':'height'}>]], dtype=object)"
      ]
     },
     "execution_count": 163,
     "metadata": {},
     "output_type": "execute_result"
    },
    {
     "data": {
      "image/png": "[encoded data removed]",
      "text/plain": [
       "<Figure size 432x288 with 4 Axes>"
      ]
     },
     "metadata": {
      "needs_background": "light"
     },
     "output_type": "display_data"
    }
   ],
   "source": [
    "small.hist()"
   ]
  },
  {
   "cell_type": "markdown",
   "metadata": {},
   "source": [
    "### Save the full dataframe for training"
   ]
  },
  {
   "cell_type": "code",
   "execution_count": 1,
   "metadata": {},
   "outputs": [
    {
     "data": {
      "text/plain": [
       "12069.0"
      ]
     },
     "execution_count": 1,
     "metadata": {},
     "output_type": "execute_result"
    }
   ],
   "source": [
    "import pandas as pd\n",
    "\n",
    "df =pd.read_csv('FinalTrain.csv')\n",
    "df['target'].sum()"
   ]
  },
  {
   "cell_type": "code",
   "execution_count": null,
   "metadata": {},
   "outputs": [],
   "source": []
  }
 ],
 "metadata": {
  "kernelspec": {
   "display_name": "Python 3",
   "language": "python",
   "name": "python3"
  },
  "language_info": {
   "codemirror_mode": {
    "name": "ipython",
    "version": 3
   },
   "file_extension": ".py",
   "mimetype": "text/x-python",
   "name": "python",
   "nbconvert_exporter": "python",
   "pygments_lexer": "ipython3",
   "version": "3.8.5"
  }
 },
 "nbformat": 4,
 "nbformat_minor": 5
}
